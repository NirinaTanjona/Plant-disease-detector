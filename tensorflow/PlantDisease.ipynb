{
  "nbformat": 4,
  "nbformat_minor": 0,
  "metadata": {
    "colab": {
      "name": "PlantDisease.ipynb",
      "private_outputs": true,
      "provenance": [],
      "collapsed_sections": []
    },
    "kernelspec": {
      "name": "python3",
      "display_name": "Python 3"
    },
    "accelerator": "GPU"
  },
  "cells": [
    {
      "cell_type": "code",
      "metadata": {
        "id": "QTl_Hzkf9bk-"
      },
      "source": [
        "# Import the dependencies\n",
        "import numpy as np\n",
        "import matplotlib.pyplot as plt\n",
        "import tensorflow_hub as hub\n",
        "import tensorflow as tf\n",
        "from tensorflow.keras import layers\n",
        "from tensorflow.keras.models import Sequential\n",
        "from tensorflow.keras.layers import Dense, Dropout, Flatten, Conv2D, MaxPool2D, BatchNormalization\n",
        "from tensorflow.keras.preprocessing.image import ImageDataGenerator\n",
        "from tensorflow.keras.optimizers import Adam\n",
        "from tensorflow.keras import models\n",
        "import tensorflow_datasets as tfds"
      ],
      "execution_count": null,
      "outputs": []
    },
    {
      "cell_type": "code",
      "metadata": {
        "id": "sKhK-59OZIm-"
      },
      "source": [
        "#from google.colab import drive\n",
        "#drive.mount('/content/drive')"
      ],
      "execution_count": null,
      "outputs": []
    },
    {
      "cell_type": "code",
      "metadata": {
        "id": "zJ4nGJxl9pL0"
      },
      "source": [
        "(train_data, val_data), info = tfds.load('PlantVillage', split=['train[:80%]', 'train[80%:]'], with_info=True, as_supervised=True)"
      ],
      "execution_count": null,
      "outputs": []
    },
    {
      "cell_type": "code",
      "metadata": {
        "id": "OQruLdWtlCTV"
      },
      "source": [
        "class_names = np.array(info.features['label'].names)\n",
        "print(class_names)"
      ],
      "execution_count": null,
      "outputs": []
    },
    {
      "cell_type": "code",
      "metadata": {
        "id": "eBvvga-amsZ3"
      },
      "source": [
        " print(\"Tensorflow version \" + tf.__version__)\n",
        " \n",
        "device_name = tf.test.gpu_device_name()\n",
        "if device_name != '/device:GPU:0':\n",
        "  raise SystemError('GPU device not found')\n",
        "print('Found GPU at: {}'.format(device_name))"
      ],
      "execution_count": null,
      "outputs": []
    },
    {
      "cell_type": "code",
      "metadata": {
        "id": "0bsgqgSAST3H"
      },
      "source": [
        "def resize(image,label):\n",
        "  image = tf.image.resize(image,[299,299])\n",
        "  return (image,label)"
      ],
      "execution_count": null,
      "outputs": []
    },
    {
      "cell_type": "code",
      "metadata": {
        "id": "lmk2gPj7lWOJ"
      },
      "source": [
        "NUM_CLASSES = 38\n",
        "def one_hot(image, label):\n",
        "    label = tf.one_hot(label, depth=NUM_CLASSES)\n",
        "    # Recasts it to Float32\n",
        "    label = tf.cast(label, tf.float32)\n",
        "    return image, label"
      ],
      "execution_count": null,
      "outputs": []
    },
    {
      "cell_type": "code",
      "metadata": {
        "id": "mP3BWvv3U4UH"
      },
      "source": [
        " \n",
        "EPOCHS=10\n",
        "train_sample = train_data\n",
        "val_sample = val_data\n",
        " \n",
        "train_data = train_data.batch(64).repeat(EPOCHS).map(resize)\n",
        "train_data = train_data.map(one_hot)\n",
        "val_data = val_data.batch(64).repeat(EPOCHS).map(resize)\n",
        "val_data = val_data.map(one_hot)"
      ],
      "execution_count": null,
      "outputs": []
    },
    {
      "cell_type": "code",
      "metadata": {
        "id": "UOfCpqTVSkwk"
      },
      "source": [
        "val_data"
      ],
      "execution_count": null,
      "outputs": []
    },
    {
      "cell_type": "code",
      "metadata": {
        "id": "FcfqevwnST3z"
      },
      "source": [
        "# Resizing and rescaling\n",
        "img_width, img_height = 299, 299\n",
        "IMAGE_SIZE = (img_width, img_height)\n",
        " \n",
        "resize_and_rescale = tf.keras.Sequential([\n",
        "  layers.experimental.preprocessing.Resizing(img_width, img_height),\n",
        "  layers.experimental.preprocessing.Rescaling(1./255)\n",
        "])"
      ],
      "execution_count": null,
      "outputs": []
    },
    {
      "cell_type": "code",
      "metadata": {
        "id": "-WFMCR0ESVa8"
      },
      "source": [
        "# Data augmentation \n",
        " \n",
        "data_augmentation = tf.keras.Sequential([\n",
        "  layers.experimental.preprocessing.RandomRotation(0.4),\n",
        "  layers.experimental.preprocessing.RandomFlip(\"horizontal_and_vertical\"),\n",
        "  layers.experimental.preprocessing.RandomZoom(.2, .2),\n",
        "  layers.experimental.preprocessing.RandomHeight(factor=[.2, .5]),\n",
        "  layers.experimental.preprocessing.RandomWidth(factor=[0.2, 0.5]),\n",
        "])"
      ],
      "execution_count": null,
      "outputs": []
    },
    {
      "cell_type": "code",
      "metadata": {
        "id": "9OOE4Q2jZhZ7"
      },
      "source": [
        "# Transfert learning\n",
        "module_selection = (\"inception_v3\", 299, 2048)\n",
        "handle_base, pixels, FV_SIZE = module_selection\n",
        "MODULE_HANDLE = \"https://tfhub.dev/google/tf2-preview/{}/feature_vector/2\".format(handle_base)\n",
        " \n",
        "feature_extractor = hub.KerasLayer(MODULE_HANDLE, input_shape=IMAGE_SIZE+(3,),\n",
        "                                   output_shape=[FV_SIZE])\n",
        "do_fine_tuning = False\n",
        "if do_fine_tuning:\n",
        "  feature_extractor.trainable = True\n",
        "  # for layer in feature_extractor.layers[-30:]:\n",
        "  #   layer.trainable = True\n",
        " \n",
        "else:\n",
        "  feature_extractor.trainable = False"
      ],
      "execution_count": null,
      "outputs": []
    },
    {
      "cell_type": "code",
      "metadata": {
        "id": "4xaT8e2CaSay"
      },
      "source": [
        "model = tf.keras.Sequential([\n",
        "    resize_and_rescale,\n",
        "    data_augmentation,\n",
        "    feature_extractor,\n",
        "    tf.keras.layers.Flatten(),\n",
        "    tf.keras.layers.Dense(512, activation='relu'),\n",
        "    tf.keras.layers.Dropout(rate=0.2),\n",
        "    tf.keras.layers.Dense(38, activation='softmax', kernel_regularizer=tf.keras.regularizers.l2(0.0001))\n",
        "])\n",
        " \n",
        "LEARNING_RATE = 0.001\n",
        "  \n",
        "model.build((None,)+IMAGE_SIZE+(3,))\n",
        "model.summary()"
      ],
      "execution_count": null,
      "outputs": []
    },
    {
      "cell_type": "code",
      "metadata": {
        "id": "OtB86-xFaSSj"
      },
      "source": [
        "# Compile the model\n",
        "EPOCHS=9\n",
        "LEARNING_RATE = 0.001\n",
        "with tf.device('/device:GPU:0'):\n",
        "  model.compile(optimizer=tf.keras.optimizers.Adam(lr=LEARNING_RATE),\n",
        "                    loss='categorical_crossentropy',\n",
        "                    metrics=['accuracy'])\n",
        "  \n",
        "  TRAIN_STEPS=tf.data.experimental.cardinality(train_sample).numpy() // 64         \n",
        "  VALID_STEPS=tf.data.experimental.cardinality(val_sample).numpy() // 64\n",
        "  history = model.fit(train_data,\n",
        "                      validation_data=val_data,\n",
        "                      epochs=EPOCHS,\n",
        "                      steps_per_epoch=TRAIN_STEPS,\n",
        "                      validation_steps=VALID_STEPS\n",
        "                      )"
      ],
      "execution_count": null,
      "outputs": []
    },
    {
      "cell_type": "code",
      "metadata": {
        "id": "xyASj_ba2N0m"
      },
      "source": [
        " print(tf.data.experimental.cardinality(train_sample).numpy() // 64)"
      ],
      "execution_count": null,
      "outputs": []
    },
    {
      "cell_type": "code",
      "metadata": {
        "id": "_lr7QYaPgquW"
      },
      "source": [
        "saved_model_path = \"drive/My Drive/saved_leafDisease_detection\"\n",
        "tf.saved_model.save(model, saved_model_path)"
      ],
      "execution_count": null,
      "outputs": []
    },
    {
      "cell_type": "code",
      "metadata": {
        "id": "CTtrPRzSaiUn"
      },
      "source": [
        "model.save(\"drive/My Drive/saved_leafDisease_detection\")"
      ],
      "execution_count": null,
      "outputs": []
    }
  ]
}